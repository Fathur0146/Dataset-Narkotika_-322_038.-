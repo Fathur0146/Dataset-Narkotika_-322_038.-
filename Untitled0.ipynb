{
  "cells": [
    {
      "cell_type": "markdown",
      "metadata": {
        "id": "view-in-github",
        "colab_type": "text"
      },
      "source": [
        "<a href=\"https://colab.research.google.com/github/Fathur0146/Dataset-Narkotika_-322_038.-/blob/main/Untitled0.ipynb\" target=\"_parent\"><img src=\"https://colab.research.google.com/assets/colab-badge.svg\" alt=\"Open In Colab\"/></a>"
      ]
    },
    {
      "cell_type": "code",
      "execution_count": null,
      "metadata": {
        "id": "1oSLBIksq8kb"
      },
      "outputs": [],
      "source": [
        "import argparse\n",
        "import io\n",
        "import os\n",
        "import re\n",
        "import time\n",
        "import urllib\n",
        "from concurrent.futures import ThreadPoolExecutor, wait\n",
        "from datetime import date\n",
        "\n",
        "import pandas as pd\n",
        "import requests\n",
        "from bs4 import BeautifulSoup\n",
        "from pdfminer import high_level\n",
        "\n",
        "def create_path(folder_name):\n",
        "    path = os.path.join(os.getcwd(), folder_name)\n",
        "    if not os.path.exists(path):\n",
        "        os.makedirs(path)\n",
        "    return path\n",
        "\n",
        "def open_page(link):\n",
        "    count = 0\n",
        "    while count < 3:\n",
        "        try:\n",
        "            return BeautifulSoup(requests.get(link).text, \"html.parser\")\n",
        "        except:\n",
        "            count += 1\n",
        "            time.sleep(5)\n",
        "\n",
        "def get_detail(soup, keywoard):\n",
        "    try:\n",
        "        text = (\n",
        "            soup.find(lambda tag: tag.name == \"td\" and keywoard in tag.text)\n",
        "            .find_next(\"td\")\n",
        "            .get_text()\n",
        "            .strip()\n",
        "        )\n",
        "        return text\n",
        "    except:\n",
        "        return \"\"\n",
        "\n",
        "def get_pdf(url, path_pdf):\n",
        "    file = urllib.request.urlopen(url)\n",
        "    file_name = file.info().get_filename().replace(\"/\", \" \")\n",
        "    file_content = file.read()\n",
        "    with open(f\"{path_pdf}/{file_name}\", \"wb\") as out_file:\n",
        "        out_file.write(file_content)\n",
        "    return io.BytesIO(file_content), file_name\n",
        "\n",
        "def clean_text(text):\n",
        "    text = text.replace(\"M a h ka m a h A g u n g R e p u blik In d o n esia\\n\", \"\")\n",
        "    text = text.replace(\"Disclaimer\\n\", \"\")\n",
        "    text = text.replace(\n",
        "        \"Kepaniteraan Mahkamah Agung Republik Indonesia berusaha untuk selalu mencamtumkan informasi paling kini dan akurat sebagai bentuk komitmen Mahkamah Agung untuk pelayanan publik, transparansi dan akuntabilitas\\n\",\n",
        "        \"\",\n",
        "    )\n",
        "    text = text.replace(\n",
        "        \"pelaksanaan fungsi peradilan. Namun dalam hal-hal tertentu masih dimungkinkan terjadi permasalahn teknis terkait dengan akurasi dan keterkinian informasi yang kami sajikan, hal mana akan terus kami perbaiki dari waktu kewaktu.\\n\",\n",
        "        \"\",\n",
        "    )\n",
        "    text = text.replace(\n",
        "        \"Email: kepaniteraan@mahkamahagung.go.id  Telp: 021-384 3348 (ext.318)\\n\",\n",
        "        \"\",\n",
        "    )\n",
        "    return text\n",
        "\n",
        "def extract_data(link, keywoard_url):\n",
        "    global today\n",
        "    global path_output\n",
        "    global path_pdf\n",
        "    global download_pdf\n",
        "\n",
        "    path_output = create_path(\"txt_putusan\")\n",
        "    path_pdf = create_path(\"pdf_putusan\")\n",
        "    today = date.today().strftime(\"%Y-%m-%d\")\n",
        "\n",
        "    soup = open_page(link)\n",
        "    table = soup.find(\"table\", {\"class\": \"table\"})\n",
        "    judul = table.find(\"h2\").text\n",
        "    table.find(\"h2\").decompose()\n",
        "\n",
        "    nomor = get_detail(table, \"Nomor\")\n",
        "    tingkat_proses = get_detail(table, \"Tingkat Proses\")\n",
        "    klasifikasi = get_detail(table, \"Klasifikasi\")\n",
        "    kata_kunci = get_detail(table, \"Kata Kunci\")\n",
        "    tahun = get_detail(table, \"Tahun\")\n",
        "    tanggal_register = get_detail(table, \"Tanggal Register\")\n",
        "    lembaga_peradilan = get_detail(table, \"Lembaga Peradilan\")\n",
        "    jenis_lembaga_peradilan = get_detail(table, \"jenis Lembaga Peradilan\")\n",
        "    hakim_ketua = get_detail(table, \"Hakim Ketua\")\n",
        "    hakim_anggota = get_detail(table, \"Hakim Anggota\")\n",
        "    panitera = get_detail(table, \"Panitera\")\n",
        "    amar = get_detail(table, \"Amar\")\n",
        "    amar_lainnya = get_detail(table, \"Amar Lainnya\")\n",
        "    catatan_amar = get_detail(table, \"Catatan Amar\")\n",
        "    tanggal_musyawarah = get_detail(table, \"Tanggal Musyawarah\")\n",
        "    tanggal_dibacakan = get_detail(table, \"Tanggal Dibacakan\")\n",
        "    kaidah = get_detail(table, \"Kaidah\")\n",
        "    abstrak = get_detail(table, \"Abstrak\")\n",
        "\n",
        "    try:\n",
        "        link_pdf = soup.find(\"a\", href=re.compile(r\"/pdf/\"))[\"href\"]\n",
        "        file_pdf, file_nama_pdf = get_pdf(link_pdf, path_pdf)\n",
        "        text_pdf = high_level.extract_text(file_pdf)\n",
        "        text_pdfc = clean_text(text_pdf)\n",
        "    except:\n",
        "        link_pdf = \"\"\n",
        "        file_pdf = \"\"\n",
        "        file_name_pdf = \"\"\n",
        "\n",
        "    data = (\n",
        "        judul,\n",
        "        nomor,\n",
        "        tingkat_proses,\n",
        "        klasifikasi,\n",
        "        kata_kunci,\n",
        "        tahun,\n",
        "        tanggal_register,\n",
        "        lembaga_peradilan,\n",
        "        jenis_lembaga_peradilan,\n",
        "        hakim_ketua,\n",
        "        hakim_anggota,\n",
        "        panitera,\n",
        "        amar,\n",
        "        amar_lainnya,\n",
        "        catatan_amar,\n",
        "        tanggal_musyawarah,\n",
        "        tanggal_dibacakan,\n",
        "        kaidah,\n",
        "        abstrak,\n",
        "        link,\n",
        "        link_pdf,\n",
        "        file_name_pdf,\n",
        "        # text_pdf,\n",
        "    )\n",
        "    keyword_url = keywoard_url.replace(\"/\", \"\")\n",
        "    if keyword_url.startswith(\"https\"):\n",
        "        keyword_url = \"https://putusan3.mahkamahagung.go.id/search.html?q=Narkotika%20dan%20Psikotropika&jenis_doc=putusan&cat=&jd=&tp=&court=098629PN185+++++++++++++++++++++&t_put=&t_reg=&t_upl=2015&t_pr=\"\n",
        "\n",
        "    destination = f\"{path_output}/{keyword_url}{today}\"\n",
        "    print(destination)\n",
        "    if not os.path.isfile(f\"{destination}.text\"):\n",
        "        result.to_csv(f\"{destination}.txt\", header=True, index=False)\n",
        "    else:\n",
        "        result.to_csv(f\"{destination}.txt\", mode=\"a\", header=False, index=False)\n",
        "\n",
        "# Sekarang kita buat fungsi utama agar bisa dijalankan di notebook\n",
        "def run_scraper(keywoard=None, url=None, sort_date=True, download_pdf=True):\n",
        "    if not keywoard and not url:\n",
        "        print(\"Please provide a keywoard or URL\")\n",
        "        return\n",
        "\n",
        "    path_output = create_path(\"putusan\")\n",
        "    path_pdf = create_path(\"pdf-putusan\")\n",
        "\n",
        "    today = date.today().strftime(\"%Y-%m-%d\")\n",
        "\n",
        "    link = f\"https://putusan3.mahkamahagung.go.id/search.html?q=Narkotika%20dan%20Psikotropika&jenis_doc=putusan&cat=&jd=&tp=&court=098629PN185+++++++++++++++++++++&t_put=&t_reg=&t_upl=2015&t_pr=\"\n",
        "\n",
        "    if url:\n",
        "        link = url\n",
        "    soup = open_page(link)\n",
        "    last_page = int(\n",
        "        soup.find_all(\"a\", {\"class\": \"page-link\"})[-1].get(\"data-ci-pagination-page\")\n",
        "    )\n",
        "    if url:\n",
        "        print(f\"Scraping with url: {url} - {20 * last_page} data - {last_page} page\")\n",
        "    else:\n",
        "        print(\n",
        "            f\"Scraping with keywoard: {keywoard} - {20 * last_page} data - {last_page} page\"\n",
        "        )\n",
        "    if url:\n",
        "        keywoard_url = url\n",
        "    else:\n",
        "        keywoard_url = keywoard\n",
        "\n",
        "    futures = []\n",
        "    with ThreadPoolExecutor(max_workers=4) as executor:\n",
        "        for page in range(last_page):\n",
        "            futures.append(\n",
        "                executor.submit(run_process, keywoard_url, page + 1, sort_date)\n",
        "            )\n",
        "        wait(futures)\n",
        "\n",
        "def run_process(keywoard_url, page, sort_page):\n",
        "    if keywoard_url.startswith(\"https\"):\n",
        "        link = f\"{keywoard_url}&page={page}\"\n",
        "    else:\n",
        "        link = f\"https://putusan3.mahkamahagung.go.id/search.html?q=Narkotika%20dan%20Psikotropika&jenis_doc=putusan&cat=&jd=&tp=&court=098629PN185+++++++++++++++++++++&t_put=&t_reg=&t_upl=2015&t_pr={keywoard_url}&page={page}\"\n",
        "    if sort_page:\n",
        "        link = f\"{link}obf=TANGGAL_PUTUSA&obm=desc\"\n",
        "\n",
        "    print(link)\n",
        "\n",
        "    soup = open_page(link)\n",
        "    links = soup.find_all(\"a\", {\"href\": re.compile(\"/direktori/putusan\")})\n",
        "\n",
        "    for link in links:\n",
        "        extract_data(link[\"href\"], keywoard_url)\n",
        "\n",
        "def scrape_specific_url(url, download_pdf=True):\n",
        "    if not url or not url.startswith(\"https://\"):\n",
        "        print(\"please provide a valid URL\")\n",
        "        return\n",
        "\n",
        "    extract_data(url, url)"
      ]
    },
    {
      "cell_type": "code",
      "execution_count": null,
      "metadata": {
        "colab": {
          "base_uri": "https://localhost:8080/"
        },
        "id": "nOWFpjuSz9xV",
        "outputId": "ea444eb5-60e7-4723-a47a-00c2f0cf2c82"
      },
      "outputs": [
        {
          "output_type": "stream",
          "name": "stdout",
          "text": [
            "Requirement already satisfied: beautifulsoup4 in /usr/local/lib/python3.10/dist-packages (4.11.2)\n",
            "Requirement already satisfied: requests in /usr/local/lib/python3.10/dist-packages (2.31.0)\n",
            "Requirement already satisfied: pdfminer.six in /usr/local/lib/python3.10/dist-packages (20221105)\n",
            "Requirement already satisfied: pandas in /usr/local/lib/python3.10/dist-packages (1.5.3)\n",
            "Requirement already satisfied: soupsieve>1.2 in /usr/local/lib/python3.10/dist-packages (from beautifulsoup4) (2.5)\n",
            "Requirement already satisfied: charset-normalizer<4,>=2 in /usr/local/lib/python3.10/dist-packages (from requests) (3.3.2)\n",
            "Requirement already satisfied: idna<4,>=2.5 in /usr/local/lib/python3.10/dist-packages (from requests) (3.4)\n",
            "Requirement already satisfied: urllib3<3,>=1.21.1 in /usr/local/lib/python3.10/dist-packages (from requests) (2.0.7)\n",
            "Requirement already satisfied: certifi>=2017.4.17 in /usr/local/lib/python3.10/dist-packages (from requests) (2023.7.22)\n",
            "Requirement already satisfied: cryptography>=36.0.0 in /usr/local/lib/python3.10/dist-packages (from pdfminer.six) (41.0.5)\n",
            "Requirement already satisfied: python-dateutil>=2.8.1 in /usr/local/lib/python3.10/dist-packages (from pandas) (2.8.2)\n",
            "Requirement already satisfied: pytz>=2020.1 in /usr/local/lib/python3.10/dist-packages (from pandas) (2023.3.post1)\n",
            "Requirement already satisfied: numpy>=1.21.0 in /usr/local/lib/python3.10/dist-packages (from pandas) (1.23.5)\n",
            "Requirement already satisfied: cffi>=1.12 in /usr/local/lib/python3.10/dist-packages (from cryptography>=36.0.0->pdfminer.six) (1.16.0)\n",
            "Requirement already satisfied: six>=1.5 in /usr/local/lib/python3.10/dist-packages (from python-dateutil>=2.8.1->pandas) (1.16.0)\n",
            "Requirement already satisfied: pycparser in /usr/local/lib/python3.10/dist-packages (from cffi>=1.12->cryptography>=36.0.0->pdfminer.six) (2.21)\n"
          ]
        }
      ],
      "source": [
        "! pip install beautifulsoup4 requests pdfminer.six pandas"
      ]
    },
    {
      "cell_type": "code",
      "execution_count": null,
      "metadata": {
        "colab": {
          "base_uri": "https://localhost:8080/"
        },
        "id": "EnN6EhU7r7SX",
        "outputId": "72ef8e39-a78b-4f54-a00f-1712a37ab8ea"
      },
      "outputs": [
        {
          "name": "stdout",
          "output_type": "stream",
          "text": [
            "Collecting utils\n",
            "  Downloading utils-1.0.1-py2.py3-none-any.whl (21 kB)\n",
            "Installing collected packages: utils\n",
            "Successfully installed utils-1.0.1\n"
          ]
        }
      ],
      "source": [
        "!pip install utils"
      ]
    },
    {
      "cell_type": "code",
      "execution_count": null,
      "metadata": {
        "colab": {
          "base_uri": "https://localhost:8080/"
        },
        "id": "j53A1_2M0K9e",
        "outputId": "246d9c8e-1da4-4605-b447-d04f0d0bdb86"
      },
      "outputs": [
        {
          "output_type": "stream",
          "name": "stdout",
          "text": [
            "Scraping with url: https://putusan3.mahkamahagung.go.id/search.html?q=Narkotika&jenis_doc=putusan&cat=3c40e48bbab311301a21c445b3c7fe57&jd=&tp=&court=099120PN216+++++++++++++++++++++&t_put=2021&t_reg=&t_upl=&t_pr= - 240 data - 12 page\n",
            "https://putusan3.mahkamahagung.go.id/search.html?q=Narkotika&jenis_doc=putusan&cat=3c40e48bbab311301a21c445b3c7fe57&jd=&tp=&court=099120PN216+++++++++++++++++++++&t_put=2021&t_reg=&t_upl=&t_pr=&page=1obf=TANGGAL_PUTUSA&obm=desc\n",
            "https://putusan3.mahkamahagung.go.id/search.html?q=Narkotika&jenis_doc=putusan&cat=3c40e48bbab311301a21c445b3c7fe57&jd=&tp=&court=099120PN216+++++++++++++++++++++&t_put=2021&t_reg=&t_upl=&t_pr=&page=2obf=TANGGAL_PUTUSA&obm=desc\n",
            "https://putusan3.mahkamahagung.go.id/search.html?q=Narkotika&jenis_doc=putusan&cat=3c40e48bbab311301a21c445b3c7fe57&jd=&tp=&court=099120PN216+++++++++++++++++++++&t_put=2021&t_reg=&t_upl=&t_pr=&page=3obf=TANGGAL_PUTUSA&obm=desc\n",
            "https://putusan3.mahkamahagung.go.id/search.html?q=Narkotika&jenis_doc=putusan&cat=3c40e48bbab311301a21c445b3c7fe57&jd=&tp=&court=099120PN216+++++++++++++++++++++&t_put=2021&t_reg=&t_upl=&t_pr=&page=4obf=TANGGAL_PUTUSA&obm=desc\n",
            "/content/txt_putusan/https://putusan3.mahkamahagung.go.id/search.html?q=Narkotika%20dan%20Psikotropika&jenis_doc=putusan&cat=&jd=&tp=&court=098629PN185+++++++++++++++++++++&t_put=&t_reg=&t_upl=2015&t_pr=2023-11-13\n",
            "https://putusan3.mahkamahagung.go.id/search.html?q=Narkotika&jenis_doc=putusan&cat=3c40e48bbab311301a21c445b3c7fe57&jd=&tp=&court=099120PN216+++++++++++++++++++++&t_put=2021&t_reg=&t_upl=&t_pr=&page=5obf=TANGGAL_PUTUSA&obm=desc\n",
            "/content/txt_putusan/https://putusan3.mahkamahagung.go.id/search.html?q=Narkotika%20dan%20Psikotropika&jenis_doc=putusan&cat=&jd=&tp=&court=098629PN185+++++++++++++++++++++&t_put=&t_reg=&t_upl=2015&t_pr=2023-11-13\n",
            "https://putusan3.mahkamahagung.go.id/search.html?q=Narkotika&jenis_doc=putusan&cat=3c40e48bbab311301a21c445b3c7fe57&jd=&tp=&court=099120PN216+++++++++++++++++++++&t_put=2021&t_reg=&t_upl=&t_pr=&page=6obf=TANGGAL_PUTUSA&obm=desc\n",
            "/content/txt_putusan/https://putusan3.mahkamahagung.go.id/search.html?q=Narkotika%20dan%20Psikotropika&jenis_doc=putusan&cat=&jd=&tp=&court=098629PN185+++++++++++++++++++++&t_put=&t_reg=&t_upl=2015&t_pr=2023-11-13\n",
            "https://putusan3.mahkamahagung.go.id/search.html?q=Narkotika&jenis_doc=putusan&cat=3c40e48bbab311301a21c445b3c7fe57&jd=&tp=&court=099120PN216+++++++++++++++++++++&t_put=2021&t_reg=&t_upl=&t_pr=&page=7obf=TANGGAL_PUTUSA&obm=desc\n",
            "/content/txt_putusan/https://putusan3.mahkamahagung.go.id/search.html?q=Narkotika%20dan%20Psikotropika&jenis_doc=putusan&cat=&jd=&tp=&court=098629PN185+++++++++++++++++++++&t_put=&t_reg=&t_upl=2015&t_pr=2023-11-13\n",
            "https://putusan3.mahkamahagung.go.id/search.html?q=Narkotika&jenis_doc=putusan&cat=3c40e48bbab311301a21c445b3c7fe57&jd=&tp=&court=099120PN216+++++++++++++++++++++&t_put=2021&t_reg=&t_upl=&t_pr=&page=8obf=TANGGAL_PUTUSA&obm=desc\n",
            "/content/txt_putusan/https://putusan3.mahkamahagung.go.id/search.html?q=Narkotika%20dan%20Psikotropika&jenis_doc=putusan&cat=&jd=&tp=&court=098629PN185+++++++++++++++++++++&t_put=&t_reg=&t_upl=2015&t_pr=2023-11-13\n",
            "https://putusan3.mahkamahagung.go.id/search.html?q=Narkotika&jenis_doc=putusan&cat=3c40e48bbab311301a21c445b3c7fe57&jd=&tp=&court=099120PN216+++++++++++++++++++++&t_put=2021&t_reg=&t_upl=&t_pr=&page=9obf=TANGGAL_PUTUSA&obm=desc\n",
            "/content/txt_putusan/https://putusan3.mahkamahagung.go.id/search.html?q=Narkotika%20dan%20Psikotropika&jenis_doc=putusan&cat=&jd=&tp=&court=098629PN185+++++++++++++++++++++&t_put=&t_reg=&t_upl=2015&t_pr=2023-11-13\n",
            "https://putusan3.mahkamahagung.go.id/search.html?q=Narkotika&jenis_doc=putusan&cat=3c40e48bbab311301a21c445b3c7fe57&jd=&tp=&court=099120PN216+++++++++++++++++++++&t_put=2021&t_reg=&t_upl=&t_pr=&page=10obf=TANGGAL_PUTUSA&obm=desc\n",
            "/content/txt_putusan/https://putusan3.mahkamahagung.go.id/search.html?q=Narkotika%20dan%20Psikotropika&jenis_doc=putusan&cat=&jd=&tp=&court=098629PN185+++++++++++++++++++++&t_put=&t_reg=&t_upl=2015&t_pr=2023-11-13\n",
            "https://putusan3.mahkamahagung.go.id/search.html?q=Narkotika&jenis_doc=putusan&cat=3c40e48bbab311301a21c445b3c7fe57&jd=&tp=&court=099120PN216+++++++++++++++++++++&t_put=2021&t_reg=&t_upl=&t_pr=&page=11obf=TANGGAL_PUTUSA&obm=desc\n",
            "https://putusan3.mahkamahagung.go.id/search.html?q=Narkotika&jenis_doc=putusan&cat=3c40e48bbab311301a21c445b3c7fe57&jd=&tp=&court=099120PN216+++++++++++++++++++++&t_put=2021&t_reg=&t_upl=&t_pr=&page=12obf=TANGGAL_PUTUSA&obm=desc\n",
            "/content/txt_putusan/https://putusan3.mahkamahagung.go.id/search.html?q=Narkotika%20dan%20Psikotropika&jenis_doc=putusan&cat=&jd=&tp=&court=098629PN185+++++++++++++++++++++&t_put=&t_reg=&t_upl=2015&t_pr=2023-11-13\n",
            "/content/txt_putusan/https://putusan3.mahkamahagung.go.id/search.html?q=Narkotika%20dan%20Psikotropika&jenis_doc=putusan&cat=&jd=&tp=&court=098629PN185+++++++++++++++++++++&t_put=&t_reg=&t_upl=2015&t_pr=2023-11-13\n",
            "/content/txt_putusan/https://putusan3.mahkamahagung.go.id/search.html?q=Narkotika%20dan%20Psikotropika&jenis_doc=putusan&cat=&jd=&tp=&court=098629PN185+++++++++++++++++++++&t_put=&t_reg=&t_upl=2015&t_pr=2023-11-13\n"
          ]
        }
      ],
      "source": [
        "run_scraper(url=\"https://putusan3.mahkamahagung.go.id/search.html?q=Narkotika&jenis_doc=putusan&cat=3c40e48bbab311301a21c445b3c7fe57&jd=&tp=&court=099120PN216+++++++++++++++++++++&t_put=2021&t_reg=&t_upl=&t_pr=\")"
      ]
    },
    {
      "cell_type": "markdown",
      "source": [
        "# New Section"
      ],
      "metadata": {
        "id": "ZhlftPb4vTV0"
      }
    },
    {
      "cell_type": "code",
      "execution_count": null,
      "metadata": {
        "colab": {
          "base_uri": "https://localhost:8080/"
        },
        "id": "R-gT4cKz1qPY",
        "outputId": "ee2d261f-d849-4250-9994-d750b981a2ad"
      },
      "outputs": [
        {
          "output_type": "stream",
          "name": "stdout",
          "text": [
            "Scraping with url: https://putusan3.mahkamahagung.go.id/search.html?q=Narkotika&jenis_doc=putusan&cat=3c40e48bbab311301a21c445b3c7fe57&jd=&tp=&court=099120PN216+++++++++++++++++++++&t_put=2020&t_reg=&t_upl=&t_pr= - 180 data - 9 page\n",
            "https://putusan3.mahkamahagung.go.id/search.html?q=Narkotika&jenis_doc=putusan&cat=3c40e48bbab311301a21c445b3c7fe57&jd=&tp=&court=099120PN216+++++++++++++++++++++&t_put=2020&t_reg=&t_upl=&t_pr=&page=1obf=TANGGAL_PUTUSA&obm=desc\n",
            "https://putusan3.mahkamahagung.go.id/search.html?q=Narkotika&jenis_doc=putusan&cat=3c40e48bbab311301a21c445b3c7fe57&jd=&tp=&court=099120PN216+++++++++++++++++++++&t_put=2020&t_reg=&t_upl=&t_pr=&page=2obf=TANGGAL_PUTUSA&obm=desc\n",
            "https://putusan3.mahkamahagung.go.id/search.html?q=Narkotika&jenis_doc=putusan&cat=3c40e48bbab311301a21c445b3c7fe57&jd=&tp=&court=099120PN216+++++++++++++++++++++&t_put=2020&t_reg=&t_upl=&t_pr=&page=3obf=TANGGAL_PUTUSA&obm=desc\n",
            "https://putusan3.mahkamahagung.go.id/search.html?q=Narkotika&jenis_doc=putusan&cat=3c40e48bbab311301a21c445b3c7fe57&jd=&tp=&court=099120PN216+++++++++++++++++++++&t_put=2020&t_reg=&t_upl=&t_pr=&page=4obf=TANGGAL_PUTUSA&obm=desc\n",
            "/content/txt_putusan/https://putusan3.mahkamahagung.go.id/search.html?q=Narkotika%20dan%20Psikotropika&jenis_doc=putusan&cat=&jd=&tp=&court=098629PN185+++++++++++++++++++++&t_put=&t_reg=&t_upl=2015&t_pr=2023-11-13\n",
            "https://putusan3.mahkamahagung.go.id/search.html?q=Narkotika&jenis_doc=putusan&cat=3c40e48bbab311301a21c445b3c7fe57&jd=&tp=&court=099120PN216+++++++++++++++++++++&t_put=2020&t_reg=&t_upl=&t_pr=&page=5obf=TANGGAL_PUTUSA&obm=desc\n",
            "/content/txt_putusan/https://putusan3.mahkamahagung.go.id/search.html?q=Narkotika%20dan%20Psikotropika&jenis_doc=putusan&cat=&jd=&tp=&court=098629PN185+++++++++++++++++++++&t_put=&t_reg=&t_upl=2015&t_pr=2023-11-13\n",
            "https://putusan3.mahkamahagung.go.id/search.html?q=Narkotika&jenis_doc=putusan&cat=3c40e48bbab311301a21c445b3c7fe57&jd=&tp=&court=099120PN216+++++++++++++++++++++&t_put=2020&t_reg=&t_upl=&t_pr=&page=6obf=TANGGAL_PUTUSA&obm=desc\n",
            "/content/txt_putusan/https://putusan3.mahkamahagung.go.id/search.html?q=Narkotika%20dan%20Psikotropika&jenis_doc=putusan&cat=&jd=&tp=&court=098629PN185+++++++++++++++++++++&t_put=&t_reg=&t_upl=2015&t_pr=2023-11-13\n",
            "https://putusan3.mahkamahagung.go.id/search.html?q=Narkotika&jenis_doc=putusan&cat=3c40e48bbab311301a21c445b3c7fe57&jd=&tp=&court=099120PN216+++++++++++++++++++++&t_put=2020&t_reg=&t_upl=&t_pr=&page=7obf=TANGGAL_PUTUSA&obm=desc\n",
            "/content/txt_putusan/https://putusan3.mahkamahagung.go.id/search.html?q=Narkotika%20dan%20Psikotropika&jenis_doc=putusan&cat=&jd=&tp=&court=098629PN185+++++++++++++++++++++&t_put=&t_reg=&t_upl=2015&t_pr=2023-11-13\n",
            "https://putusan3.mahkamahagung.go.id/search.html?q=Narkotika&jenis_doc=putusan&cat=3c40e48bbab311301a21c445b3c7fe57&jd=&tp=&court=099120PN216+++++++++++++++++++++&t_put=2020&t_reg=&t_upl=&t_pr=&page=8obf=TANGGAL_PUTUSA&obm=desc\n",
            "/content/txt_putusan/https://putusan3.mahkamahagung.go.id/search.html?q=Narkotika%20dan%20Psikotropika&jenis_doc=putusan&cat=&jd=&tp=&court=098629PN185+++++++++++++++++++++&t_put=&t_reg=&t_upl=2015&t_pr=2023-11-13\n",
            "https://putusan3.mahkamahagung.go.id/search.html?q=Narkotika&jenis_doc=putusan&cat=3c40e48bbab311301a21c445b3c7fe57&jd=&tp=&court=099120PN216+++++++++++++++++++++&t_put=2020&t_reg=&t_upl=&t_pr=&page=9obf=TANGGAL_PUTUSA&obm=desc\n",
            "/content/txt_putusan/https://putusan3.mahkamahagung.go.id/search.html?q=Narkotika%20dan%20Psikotropika&jenis_doc=putusan&cat=&jd=&tp=&court=098629PN185+++++++++++++++++++++&t_put=&t_reg=&t_upl=2015&t_pr=2023-11-13\n",
            "/content/txt_putusan/https://putusan3.mahkamahagung.go.id/search.html?q=Narkotika%20dan%20Psikotropika&jenis_doc=putusan&cat=&jd=&tp=&court=098629PN185+++++++++++++++++++++&t_put=&t_reg=&t_upl=2015&t_pr=2023-11-13\n",
            "/content/txt_putusan/https://putusan3.mahkamahagung.go.id/search.html?q=Narkotika%20dan%20Psikotropika&jenis_doc=putusan&cat=&jd=&tp=&court=098629PN185+++++++++++++++++++++&t_put=&t_reg=&t_upl=2015&t_pr=2023-11-13\n",
            "/content/txt_putusan/https://putusan3.mahkamahagung.go.id/search.html?q=Narkotika%20dan%20Psikotropika&jenis_doc=putusan&cat=&jd=&tp=&court=098629PN185+++++++++++++++++++++&t_put=&t_reg=&t_upl=2015&t_pr=2023-11-13\n"
          ]
        }
      ],
      "source": [
        "run_scraper(keywoard=\"Narkotika \", url=\"https://putusan3.mahkamahagung.go.id/search.html?q=Narkotika&jenis_doc=putusan&cat=3c40e48bbab311301a21c445b3c7fe57&jd=&tp=&court=099120PN216+++++++++++++++++++++&t_put=2020&t_reg=&t_upl=&t_pr=\")"
      ]
    }
  ],
  "metadata": {
    "colab": {
      "provenance": [],
      "mount_file_id": "1ssSv1Fm-IJW0ZwU0RIR-kEkvnQpTlcFw",
      "authorship_tag": "ABX9TyN04VO0IbKhlfDjZJBJRAmi",
      "include_colab_link": true
    },
    "kernelspec": {
      "display_name": "Python 3",
      "name": "python3"
    },
    "language_info": {
      "name": "python"
    }
  },
  "nbformat": 4,
  "nbformat_minor": 0
}